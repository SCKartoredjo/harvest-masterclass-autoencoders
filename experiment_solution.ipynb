{
 "cells": [
  {
   "cell_type": "code",
   "execution_count": 2,
   "outputs": [],
   "source": [
    "import tensorflow as tf\n",
    "import numpy as np\n",
    "from PIL import Image"
   ],
   "metadata": {
    "collapsed": false,
    "ExecuteTime": {
     "end_time": "2023-06-15T11:51:44.736450800Z",
     "start_time": "2023-06-15T11:51:34.915824300Z"
    }
   }
  },
  {
   "cell_type": "code",
   "execution_count": 20,
   "outputs": [],
   "source": [
    "labels = {\n",
    "0: \"T-shirt/top\",\n",
    "1: \"Trouser\",\n",
    "2: \"Pullover\",\n",
    "3: \"Dress\",\n",
    "4: \"Coat\",\n",
    "5: \"Sandal\",\n",
    "6: \"Shirt\",\n",
    "7: \"Sneaker\",\n",
    "8: \"Bag\",\n",
    "9: \"Ankle boot\"\n",
    "}"
   ],
   "metadata": {
    "collapsed": false,
    "ExecuteTime": {
     "end_time": "2023-06-15T12:05:08.679892100Z",
     "start_time": "2023-06-15T12:05:08.673194200Z"
    }
   }
  },
  {
   "cell_type": "code",
   "execution_count": 21,
   "outputs": [],
   "source": [
    "(X_train, Y_train), (X_test, Y_test) = tf.keras.datasets.fashion_mnist.load_data()"
   ],
   "metadata": {
    "collapsed": false,
    "ExecuteTime": {
     "end_time": "2023-06-15T12:05:09.281761200Z",
     "start_time": "2023-06-15T12:05:08.880227500Z"
    }
   }
  },
  {
   "cell_type": "code",
   "execution_count": 22,
   "outputs": [],
   "source": [
    "def get_train_test_cat(x_train: np.ndarray, x_test: np.ndarray, y_train: np.ndarray, y_test: np.ndarray, label=0) -> (np.ndarray, np.ndarray):\n",
    "    x_train = x_train[y_train == label]\n",
    "    x_test = x_test[y_test == label]\n",
    "    return x_train, x_test"
   ],
   "metadata": {
    "collapsed": false,
    "ExecuteTime": {
     "end_time": "2023-06-15T12:05:09.288507400Z",
     "start_time": "2023-06-15T12:05:09.283685200Z"
    }
   }
  },
  {
   "cell_type": "code",
   "execution_count": 23,
   "outputs": [],
   "source": [
    "# TODO: get train data\n",
    "# 1\n",
    "##########################################################\n",
    "sneaker_train, sneaker_test = get_train_test_cat(X_train, X_test, Y_train, Y_test, label=7) # Hint: het is wat er uit de functie komt\n",
    "##########################################################"
   ],
   "metadata": {
    "collapsed": false,
    "ExecuteTime": {
     "end_time": "2023-06-15T12:05:11.669220800Z",
     "start_time": "2023-06-15T12:05:11.657484600Z"
    }
   }
  },
  {
   "cell_type": "code",
   "execution_count": 24,
   "outputs": [
    {
     "data": {
      "text/plain": "(6000, 28, 28)"
     },
     "execution_count": 24,
     "metadata": {},
     "output_type": "execute_result"
    }
   ],
   "source": [
    "np.shape(sneaker_train)"
   ],
   "metadata": {
    "collapsed": false,
    "ExecuteTime": {
     "end_time": "2023-06-15T12:05:11.888823400Z",
     "start_time": "2023-06-15T12:05:11.878699400Z"
    }
   }
  },
  {
   "cell_type": "code",
   "execution_count": 25,
   "outputs": [],
   "source": [
    "from sklearn.preprocessing import MinMaxScaler\n",
    "\n",
    "# TODO: Init datascalar\n",
    "# 2\n",
    "############################################################\n",
    "scaler_in = MinMaxScaler()\n",
    "x_flat =  np.reshape(sneaker_train, (len(sneaker_train), -1)) # Hint: het is een vector, en de functie staat hieronder\n",
    "data_scaler = scaler_in.fit(x_flat) # Hint: sklearn gebruikt altijd fit\n",
    "#############################################################\n",
    "\n",
    "def unroll(data: np.ndarray) -> np.ndarray:\n",
    "    \"\"\"\n",
    "    Maakt van de data een vector (samples, -1)\n",
    "    :param data:\n",
    "    :return:\n",
    "    \"\"\"\n",
    "    return np.reshape(data, (len(data), -1))\n",
    "\n",
    "def add_dummy_dim(data: np.ndarray) -> np.ndarray:\n",
    "    \"\"\"\n",
    "    Voegd een extra dummy dim to aan het eind\n",
    "    :param data:\n",
    "    :return:\n",
    "    \"\"\"\n",
    "    return np.expand_dims(data, axis=-1)\n",
    "\n",
    "def norm_data(train: np.ndarray, test: np.ndarray, shape: str ='flat') -> (np.ndarray, np.ndarray):\n",
    "    \"\"\"\n",
    "    Transformeerd data voor de autoencoder\n",
    "    flat: een vector\n",
    "    dummy: een extra dim aan het eind voor non compressie versie (is heel traag, gebruik deze niet)\n",
    "    None: Geeft de originele dims terug. Werkt prima, maar niet omdat het hoort. (Zie tensorflow docs voor meer informatie)\n",
    "    :param train:\n",
    "    :param test:\n",
    "    :param shape:\n",
    "    :return:\n",
    "    Genormaliseerde (eventueel getransformeerde) data\n",
    "    \"\"\"\n",
    "    unroll_train = unroll(train)\n",
    "    unroll_test = unroll(test)\n",
    "    _train = data_scaler.transform(unroll_train)\n",
    "    _test = data_scaler.transform(unroll_test)\n",
    "    if shape=='flat':\n",
    "        return _train, _test\n",
    "    if shape=='dummy':\n",
    "        return add_dummy_dim(train), add_dummy_dim(test)\n",
    "    else:\n",
    "        return np.reshape(_train, np.shape(train)), np.reshape(_test, np.shape(test))\n",
    "\n",
    "def reverse_data(data: np.ndarray) -> np.ndarray:\n",
    "    \"\"\"\n",
    "    Geeft weer de orginele data terug. Is voornamelijk voor het plotten van de data.\n",
    "    In de tussentijd werk je alleen met de genormaliseerde data\n",
    "    :param data:\n",
    "    :return:\n",
    "    Inverse van de getransformeerde data\n",
    "    \"\"\"\n",
    "    if len(np.shape(data)) == 3:\n",
    "        flat = unroll(data)\n",
    "        inv_roll = data_scaler.inverse_transform(flat)\n",
    "        img = np.reshape(inv_roll, (len(data), np.shape(data)[1], np.shape(data)[2]))\n",
    "    elif len(np.shape(data)) == 4:\n",
    "        flat = np.squeeze(data)\n",
    "        inv_roll = data_scaler.inverse_transform(flat)\n",
    "        img = np.reshape(inv_roll, (len(data), np.shape(data)[1], np.shape(data)[2]))\n",
    "    else:\n",
    "        flat = data\n",
    "        inv_roll = data_scaler.inverse_transform(flat)\n",
    "        img = np.reshape(inv_roll, (len(data), int(np.sqrt(np.shape(data)[1])), int(np.sqrt(np.shape(data)[1]))))\n",
    "\n",
    "    return img\n"
   ],
   "metadata": {
    "collapsed": false,
    "ExecuteTime": {
     "end_time": "2023-06-15T12:05:17.690Z",
     "start_time": "2023-06-15T12:05:17.657495100Z"
    }
   }
  },
  {
   "cell_type": "code",
   "execution_count": 26,
   "outputs": [],
   "source": [
    "# TODO: insert train set\n",
    "# 3\n",
    "####################################################\n",
    "norm_sneaker_train, norm_sneaker_test = norm_data(sneaker_train, sneaker_test, shape=\"flat\") # Hint: het is weer de train test set\n",
    "####################################################"
   ],
   "metadata": {
    "collapsed": false,
    "ExecuteTime": {
     "end_time": "2023-06-15T12:05:18.340595700Z",
     "start_time": "2023-06-15T12:05:18.289348500Z"
    }
   }
  },
  {
   "cell_type": "code",
   "execution_count": 27,
   "outputs": [
    {
     "data": {
      "text/plain": "(6000, 784)"
     },
     "execution_count": 27,
     "metadata": {},
     "output_type": "execute_result"
    }
   ],
   "source": [
    "np.shape(x_flat)"
   ],
   "metadata": {
    "collapsed": false,
    "ExecuteTime": {
     "end_time": "2023-06-15T12:05:18.862018600Z",
     "start_time": "2023-06-15T12:05:18.851881400Z"
    }
   }
  },
  {
   "cell_type": "code",
   "execution_count": 28,
   "outputs": [],
   "source": [
    "import tensorflow as tf\n",
    "from tensorflow.python.keras.models import Model\n",
    "\n",
    "class AutoEncoder(Model):\n",
    "  def __init__(self, size_features):\n",
    "    super(AutoEncoder, self).__init__()\n",
    "    self.encoder = tf.keras.Sequential([\n",
    "                  tf.keras.layers.Dense(128, activation=\"relu\"),\n",
    "                  tf.keras.layers.Dense(64, activation=\"relu\"),\n",
    "                  tf.keras.layers.Dense(32, activation=\"relu\"),\n",
    "                  tf.keras.layers.Dense(16, activation=\"relu\"),\n",
    "                  tf.keras.layers.Dense(8, activation=\"relu\")\n",
    "              ])\n",
    "    self.decoder = tf.keras.Sequential([\n",
    "                  tf.keras.layers.Dense(16, activation=\"relu\"),\n",
    "                  tf.keras.layers.Dense(32, activation=\"relu\"),\n",
    "                  tf.keras.layers.Dense(64, activation=\"relu\"),\n",
    "                  tf.keras.layers.Dense(128, activation=\"relu\"),\n",
    "                  tf.keras.layers.Dense(size_features, activation=\"sigmoid\")\n",
    "              ])\n",
    "  def call(self, x, **kwargs):\n",
    "    encoded = self.encoder(x)\n",
    "    decoded = self.decoder(encoded)\n",
    "    return decoded"
   ],
   "metadata": {
    "collapsed": false,
    "ExecuteTime": {
     "end_time": "2023-06-15T12:05:20.183300Z",
     "start_time": "2023-06-15T12:05:20.175314900Z"
    }
   }
  },
  {
   "cell_type": "code",
   "execution_count": 29,
   "outputs": [],
   "source": [
    "# TODO: init het model met de hoeveelheid features van je train set\n",
    "# 5\n",
    "##############################################\n",
    "model = AutoEncoder(np.shape(norm_sneaker_train)[-1]) # Hint: bij een unroll/flat is het aantal features gelijk aan de lengte van de vector (aka het aantal pixels)\n",
    "#############################################"
   ],
   "metadata": {
    "collapsed": false,
    "ExecuteTime": {
     "end_time": "2023-06-15T12:05:20.865114400Z",
     "start_time": "2023-06-15T12:05:20.842310Z"
    }
   }
  },
  {
   "cell_type": "code",
   "execution_count": 30,
   "outputs": [
    {
     "name": "stdout",
     "output_type": "stream",
     "text": [
      "Epoch 1/200\n",
      "50/50 [==============================] - 2s 26ms/step - loss: 0.0770 - val_loss: 0.0339\n",
      "Epoch 2/200\n",
      "50/50 [==============================] - 1s 20ms/step - loss: 0.0337 - val_loss: 0.0317\n",
      "Epoch 3/200\n",
      "50/50 [==============================] - 1s 20ms/step - loss: 0.0316 - val_loss: 0.0294\n",
      "Epoch 4/200\n",
      "50/50 [==============================] - 1s 20ms/step - loss: 0.0296 - val_loss: 0.0272\n",
      "Epoch 5/200\n",
      "50/50 [==============================] - 1s 20ms/step - loss: 0.0255 - val_loss: 0.0223\n",
      "Epoch 6/200\n",
      "50/50 [==============================] - 1s 20ms/step - loss: 0.0228 - val_loss: 0.0211\n",
      "Epoch 7/200\n",
      "50/50 [==============================] - 1s 20ms/step - loss: 0.0216 - val_loss: 0.0202\n",
      "Epoch 8/200\n",
      "50/50 [==============================] - 1s 20ms/step - loss: 0.0210 - val_loss: 0.0199\n",
      "Epoch 9/200\n",
      "50/50 [==============================] - 1s 20ms/step - loss: 0.0205 - val_loss: 0.0196\n",
      "Epoch 10/200\n",
      "50/50 [==============================] - 1s 20ms/step - loss: 0.0200 - val_loss: 0.0190\n",
      "Epoch 11/200\n",
      "50/50 [==============================] - 1s 20ms/step - loss: 0.0194 - val_loss: 0.0183\n",
      "Epoch 12/200\n",
      "50/50 [==============================] - 1s 20ms/step - loss: 0.0182 - val_loss: 0.0172\n",
      "Epoch 13/200\n",
      "50/50 [==============================] - 1s 20ms/step - loss: 0.0171 - val_loss: 0.0161\n",
      "Epoch 14/200\n",
      "50/50 [==============================] - 1s 20ms/step - loss: 0.0165 - val_loss: 0.0159\n",
      "Epoch 15/200\n",
      "50/50 [==============================] - 1s 20ms/step - loss: 0.0162 - val_loss: 0.0157\n",
      "Epoch 16/200\n",
      "50/50 [==============================] - 1s 20ms/step - loss: 0.0160 - val_loss: 0.0156\n",
      "Epoch 17/200\n",
      "50/50 [==============================] - 1s 20ms/step - loss: 0.0159 - val_loss: 0.0155\n",
      "Epoch 18/200\n",
      "50/50 [==============================] - 1s 20ms/step - loss: 0.0157 - val_loss: 0.0155\n",
      "Epoch 19/200\n",
      "50/50 [==============================] - 1s 20ms/step - loss: 0.0156 - val_loss: 0.0151\n",
      "Epoch 20/200\n",
      "50/50 [==============================] - 1s 20ms/step - loss: 0.0153 - val_loss: 0.0149\n",
      "Epoch 21/200\n",
      "50/50 [==============================] - 1s 20ms/step - loss: 0.0150 - val_loss: 0.0147\n",
      "Epoch 22/200\n",
      "50/50 [==============================] - 1s 20ms/step - loss: 0.0148 - val_loss: 0.0143\n",
      "Epoch 23/200\n",
      "50/50 [==============================] - 1s 20ms/step - loss: 0.0145 - val_loss: 0.0142\n",
      "Epoch 24/200\n",
      "50/50 [==============================] - 1s 20ms/step - loss: 0.0143 - val_loss: 0.0139\n",
      "Epoch 25/200\n",
      "50/50 [==============================] - 1s 20ms/step - loss: 0.0141 - val_loss: 0.0137\n",
      "Epoch 26/200\n",
      "50/50 [==============================] - 1s 20ms/step - loss: 0.0140 - val_loss: 0.0137\n",
      "Epoch 27/200\n",
      "50/50 [==============================] - 1s 20ms/step - loss: 0.0139 - val_loss: 0.0135\n",
      "Epoch 28/200\n",
      "50/50 [==============================] - 1s 20ms/step - loss: 0.0138 - val_loss: 0.0135\n",
      "Epoch 29/200\n",
      "50/50 [==============================] - 1s 20ms/step - loss: 0.0137 - val_loss: 0.0134\n",
      "Epoch 30/200\n",
      "50/50 [==============================] - 1s 20ms/step - loss: 0.0136 - val_loss: 0.0133\n",
      "Epoch 31/200\n",
      "50/50 [==============================] - 1s 20ms/step - loss: 0.0135 - val_loss: 0.0133\n",
      "Epoch 32/200\n",
      "50/50 [==============================] - 1s 20ms/step - loss: 0.0135 - val_loss: 0.0132\n",
      "Epoch 33/200\n",
      "50/50 [==============================] - 1s 20ms/step - loss: 0.0134 - val_loss: 0.0131\n",
      "Epoch 34/200\n",
      "50/50 [==============================] - 1s 20ms/step - loss: 0.0134 - val_loss: 0.0131\n",
      "Epoch 35/200\n",
      "50/50 [==============================] - 1s 20ms/step - loss: 0.0133 - val_loss: 0.0130\n",
      "Epoch 36/200\n",
      "50/50 [==============================] - 1s 20ms/step - loss: 0.0133 - val_loss: 0.0130\n",
      "Epoch 37/200\n",
      "50/50 [==============================] - 1s 20ms/step - loss: 0.0132 - val_loss: 0.0129\n",
      "Epoch 38/200\n",
      "50/50 [==============================] - 1s 20ms/step - loss: 0.0132 - val_loss: 0.0130\n",
      "Epoch 39/200\n",
      "50/50 [==============================] - 1s 20ms/step - loss: 0.0132 - val_loss: 0.0129\n",
      "Epoch 40/200\n",
      "50/50 [==============================] - 1s 20ms/step - loss: 0.0131 - val_loss: 0.0129\n",
      "Epoch 41/200\n",
      "50/50 [==============================] - 1s 20ms/step - loss: 0.0131 - val_loss: 0.0129\n",
      "Epoch 42/200\n",
      "50/50 [==============================] - 1s 20ms/step - loss: 0.0130 - val_loss: 0.0128\n",
      "Epoch 43/200\n",
      "50/50 [==============================] - 1s 20ms/step - loss: 0.0129 - val_loss: 0.0129\n",
      "Epoch 44/200\n",
      "50/50 [==============================] - 1s 20ms/step - loss: 0.0129 - val_loss: 0.0127\n",
      "Epoch 45/200\n",
      "50/50 [==============================] - 1s 20ms/step - loss: 0.0128 - val_loss: 0.0126\n",
      "Epoch 46/200\n",
      "50/50 [==============================] - 1s 20ms/step - loss: 0.0127 - val_loss: 0.0125\n",
      "Epoch 47/200\n",
      "50/50 [==============================] - 1s 20ms/step - loss: 0.0126 - val_loss: 0.0124\n",
      "Epoch 48/200\n",
      "50/50 [==============================] - 1s 20ms/step - loss: 0.0125 - val_loss: 0.0123\n",
      "Epoch 49/200\n",
      "50/50 [==============================] - 1s 20ms/step - loss: 0.0124 - val_loss: 0.0123\n",
      "Epoch 50/200\n",
      "50/50 [==============================] - 1s 20ms/step - loss: 0.0123 - val_loss: 0.0122\n",
      "Epoch 51/200\n",
      "50/50 [==============================] - 1s 20ms/step - loss: 0.0123 - val_loss: 0.0122\n",
      "Epoch 52/200\n",
      "50/50 [==============================] - 1s 20ms/step - loss: 0.0122 - val_loss: 0.0121\n",
      "Epoch 53/200\n",
      "50/50 [==============================] - 1s 20ms/step - loss: 0.0122 - val_loss: 0.0120\n",
      "Epoch 54/200\n",
      "50/50 [==============================] - 1s 20ms/step - loss: 0.0122 - val_loss: 0.0120\n",
      "Epoch 55/200\n",
      "50/50 [==============================] - 1s 20ms/step - loss: 0.0121 - val_loss: 0.0120\n",
      "Epoch 56/200\n",
      "50/50 [==============================] - 1s 20ms/step - loss: 0.0121 - val_loss: 0.0120\n",
      "Epoch 57/200\n",
      "50/50 [==============================] - 1s 20ms/step - loss: 0.0120 - val_loss: 0.0119\n",
      "Epoch 58/200\n",
      "50/50 [==============================] - 1s 20ms/step - loss: 0.0120 - val_loss: 0.0119\n",
      "Epoch 59/200\n",
      "50/50 [==============================] - 1s 20ms/step - loss: 0.0120 - val_loss: 0.0119\n",
      "Epoch 60/200\n",
      "50/50 [==============================] - 1s 20ms/step - loss: 0.0120 - val_loss: 0.0118\n",
      "Epoch 61/200\n",
      "50/50 [==============================] - 1s 20ms/step - loss: 0.0119 - val_loss: 0.0118\n",
      "Epoch 62/200\n",
      "50/50 [==============================] - 1s 20ms/step - loss: 0.0119 - val_loss: 0.0119\n"
     ]
    }
   ],
   "source": [
    "# TODO: train het model\n",
    "early_stopping = tf.keras.callbacks.EarlyStopping(monitor=\"val_loss\", patience=2, mode=\"min\")\n",
    "# 6\n",
    "####################################################################################################\n",
    "model.compile(optimizer='adam', loss='mse') # Hint: het maakt niet uit\n",
    "history = model.fit(norm_sneaker_train, norm_sneaker_train, epochs=200, batch_size=120, # Hint: Wat erin gaat moet er ook weer uit\n",
    "                    validation_data=(norm_sneaker_test, norm_sneaker_test), # Hint: Je test set\n",
    "####################################################################################################\n",
    "                    shuffle=True,\n",
    "                    callbacks=[early_stopping]\n",
    "                   )"
   ],
   "metadata": {
    "collapsed": false,
    "ExecuteTime": {
     "end_time": "2023-06-15T12:06:23.880575400Z",
     "start_time": "2023-06-15T12:05:21.322550200Z"
    }
   }
  },
  {
   "cell_type": "code",
   "execution_count": 31,
   "outputs": [],
   "source": [
    "# TODO: Tijd om je model te testen\n",
    "# 7\n",
    "###########################################\n",
    "pred = model.predict(norm_sneaker_test) # Hint: er zijn 2 manieren: encode-decode OF gebruik de build in functie van tensorflow die altijd volgt na .fit\n",
    "###########################################"
   ],
   "metadata": {
    "collapsed": false,
    "ExecuteTime": {
     "end_time": "2023-06-15T12:06:51.826615500Z",
     "start_time": "2023-06-15T12:06:51.565446200Z"
    }
   }
  },
  {
   "cell_type": "code",
   "execution_count": 32,
   "outputs": [],
   "source": [
    "# TODO: om weer bruikbare data te maken moeten we terug naar de echte waardes\n",
    "# 8\n",
    "################################################################################################\n",
    "pred_images = reverse_data(pred) # Je moet de data omdraaien. De functie is al gemaakt. Als het goed is gegaan moet dit zonder aanpassingen gaan\n",
    "real_images = reverse_data(norm_sneaker_test) # Hint: Een set die je eerder gemaakt hebt\n",
    "################################################################################################\n",
    "# (extra hint in het geval iets niet werkt: Je moet misschien een squeeze uitvoeren)"
   ],
   "metadata": {
    "collapsed": false,
    "ExecuteTime": {
     "end_time": "2023-06-15T12:06:52.450883300Z",
     "start_time": "2023-06-15T12:06:52.436527400Z"
    }
   }
  },
  {
   "cell_type": "code",
   "execution_count": 33,
   "outputs": [
    {
     "data": {
      "text/plain": "<PIL.Image.Image image mode=L size=28x28>",
      "image/png": "[encoded data removed]"
     },
     "execution_count": 33,
     "metadata": {},
     "output_type": "execute_result"
    }
   ],
   "source": [
    "# Optioneel: plot je data om te kijken of het goed is gegaan\n",
    "#################################################\n",
    "Image.fromarray(np.uint8(real_images[1]))\n",
    "#################################################"
   ],
   "metadata": {
    "collapsed": false,
    "ExecuteTime": {
     "end_time": "2023-06-15T12:06:52.797844800Z",
     "start_time": "2023-06-15T12:06:52.788760300Z"
    }
   }
  },
  {
   "cell_type": "code",
   "execution_count": 37,
   "outputs": [],
   "source": [
    "def get_losses(train: np.ndarray, test: np.ndarray, y_labels: dict) -> np.ndarray:\n",
    "    \"\"\"\n",
    "    Berekend alle losses van alle labels in de fashion MNIST set\n",
    "    :param train:\n",
    "    :param test:\n",
    "    :param y_labels:\n",
    "    :return:\n",
    "    Een dict met key: label en value: losses\n",
    "    \"\"\"\n",
    "    losses = dict()\n",
    "    for label, value in y_labels.items():\n",
    "        x_train, x_test = get_train_test_cat(X_train, X_test, Y_train, Y_test, label=label)\n",
    "        _, test = norm_data(x_train, x_test, shape=\"flat\")\n",
    "        losses[value] = tf.keras.losses.mse(model.predict(unroll(test)), unroll(test)).numpy()\n",
    "    return losses"
   ],
   "metadata": {
    "collapsed": false,
    "ExecuteTime": {
     "end_time": "2023-06-15T12:08:50.225123700Z",
     "start_time": "2023-06-15T12:08:50.213205Z"
    }
   }
  },
  {
   "cell_type": "code",
   "execution_count": 38,
   "outputs": [],
   "source": [
    "# Get losses van alle labels\n",
    "performance = get_losses(X_train, X_test, y_labels=labels)"
   ],
   "metadata": {
    "collapsed": false,
    "ExecuteTime": {
     "end_time": "2023-06-15T12:08:52.861458900Z",
     "start_time": "2023-06-15T12:08:50.783109900Z"
    }
   }
  },
  {
   "cell_type": "code",
   "execution_count": 39,
   "outputs": [],
   "source": [
    "import seaborn as sns\n",
    "import matplotlib.pyplot as plt"
   ],
   "metadata": {
    "collapsed": false,
    "ExecuteTime": {
     "end_time": "2023-06-15T12:09:03.616598800Z",
     "start_time": "2023-06-15T12:09:03.593770900Z"
    }
   }
  },
  {
   "cell_type": "code",
   "execution_count": 68,
   "outputs": [],
   "source": [
    "# TODO: selecteer een threshold\n",
    "# 9\n",
    "###########################################################\n",
    "threshold = np.mean(performance['Sneaker']) + 2*np.std(performance['Sneaker']) + 0.1 # Hint: loss van de ...\n",
    "############################################################\n",
    "# Hint: wat de threshold is maakt eigenlijk niet uit. Het is standaard om +/-2stdev te gebruiken oftewel ongeveer 5%. Maar dit hoeft niet."
   ],
   "metadata": {
    "collapsed": false,
    "ExecuteTime": {
     "end_time": "2023-06-15T12:11:49.895838400Z",
     "start_time": "2023-06-15T12:11:49.888065200Z"
    }
   }
  },
  {
   "cell_type": "code",
   "execution_count": 69,
   "outputs": [],
   "source": [
    "def plot_detection(losses: np.ndarray, name:str, offset:float=0) -> None:\n",
    "    \"\"\"\n",
    "    Plot een histogram van alle losses en de threshold\n",
    "    :param losses:\n",
    "    :param name:\n",
    "    :param offset:\n",
    "    :return:\n",
    "    None (een print statement)\n",
    "    \"\"\"\n",
    "    sns.histplot(losses, bins=50)\n",
    "    _ = plt.axvline(threshold, color='r', linewidth=3, linestyle='dashed', label='{:0.3f}'.format(threshold))\n",
    "\n",
    "    passed = tf.math.less(losses, threshold+offset)\n",
    "    print(f\"Detection rate {name}: {100-tf.math.count_nonzero(passed).numpy()/len(losses)*100:.2f}%\")"
   ],
   "metadata": {
    "collapsed": false,
    "ExecuteTime": {
     "end_time": "2023-06-15T12:11:50.049474900Z",
     "start_time": "2023-06-15T12:11:50.041331700Z"
    }
   }
  },
  {
   "cell_type": "code",
   "execution_count": 70,
   "outputs": [
    {
     "name": "stdout",
     "output_type": "stream",
     "text": [
      "Detection rate T-shirt/top: 100.00%\n",
      "Detection rate Trouser: 100.00%\n",
      "Detection rate Pullover: 100.00%\n",
      "Detection rate Dress: 100.00%\n",
      "Detection rate Coat: 100.00%\n",
      "Detection rate Sandal: 7.70%\n",
      "Detection rate Shirt: 100.00%\n",
      "Detection rate Sneaker: 0.00%\n",
      "Detection rate Bag: 92.50%\n",
      "Detection rate Ankle boot: 13.80%\n"
     ]
    },
    {
     "data": {
      "text/plain": "<Figure size 640x480 with 1 Axes>",
      "image/png": "[encoded data removed]"
     },
     "metadata": {},
     "output_type": "display_data"
    }
   ],
   "source": [
    "for key, values in performance.items():\n",
    "    plot_detection(values, key, offset=0.01)"
   ],
   "metadata": {
    "collapsed": false,
    "ExecuteTime": {
     "end_time": "2023-06-15T12:11:51.226991900Z",
     "start_time": "2023-06-15T12:11:50.195585800Z"
    }
   }
  },
  {
   "cell_type": "code",
   "execution_count": null,
   "outputs": [],
   "source": [],
   "metadata": {
    "collapsed": false
   }
  }
 ],
 "metadata": {
  "kernelspec": {
   "display_name": "Python 3",
   "language": "python",
   "name": "python3"
  },
  "language_info": {
   "codemirror_mode": {
    "name": "ipython",
    "version": 2
   },
   "file_extension": ".py",
   "mimetype": "text/x-python",
   "name": "python",
   "nbconvert_exporter": "python",
   "pygments_lexer": "ipython2",
   "version": "2.7.6"
  }
 },
 "nbformat": 4,
 "nbformat_minor": 0
}
